{
 "cells": [
  {
   "cell_type": "code",
   "execution_count": 1,
   "metadata": {},
   "outputs": [],
   "source": [
    "import numpy as np\n",
    "import pandas as pd\n",
    "import os\n",
    "import math"
   ]
  },
  {
   "cell_type": "markdown",
   "metadata": {},
   "source": [
    "## Constructing our Dataset"
   ]
  },
  {
   "cell_type": "code",
   "execution_count": 2,
   "metadata": {},
   "outputs": [],
   "source": [
    "dir_path = './languageID/'\n",
    "spanish_files = []\n",
    "english_files = []\n",
    "japanese_files = []\n",
    "for file_name in os.listdir(dir_path):\n",
    "    file_path = os.path.join(dir_path, file_name)\n",
    "    if os.path.isfile(file_path):\n",
    "        if file_name.startswith('s'):\n",
    "            spanish_files.append(file_path)\n",
    "        elif file_name.startswith('e'):\n",
    "            english_files.append(file_path)\n",
    "        elif file_name.startswith('j'):\n",
    "            japanese_files.append(file_path)\n",
    "slash_index = len(dir_path) + 1\n",
    "spanish_files.sort(key=lambda x: int(x[slash_index:-4]))\n",
    "english_files.sort(key=lambda x: int(x[slash_index:-4]))\n",
    "japanese_files.sort(key=lambda x: int(x[slash_index:-4]))"
   ]
  },
  {
   "cell_type": "code",
   "execution_count": 3,
   "metadata": {},
   "outputs": [],
   "source": [
    "english_data = []\n",
    "japanese_data = []\n",
    "spanish_data = []\n",
    "symbols = ['a','b','c','d','e','f','g','h','i','j','k','l','m',\\\n",
    "           'n','o','p','q','r','s','t','u','v','w','x','y','z',' ']\n",
    "\n",
    "for file_path in english_files:\n",
    "    symbol_counts = {s:0 for s in symbols}\n",
    "    with open(file_path, 'r') as file:\n",
    "        for line in file:\n",
    "            for char in line:\n",
    "                if char in symbol_counts:\n",
    "                    symbol_counts[char] += 1\n",
    "    data_point = list(symbol_counts.values())\n",
    "    data_point.append(0)\n",
    "    english_data.append(data_point)\n",
    "\n",
    "for file_path in japanese_files:\n",
    "    symbol_counts = {s:0 for s in symbols}\n",
    "    with open(file_path, 'r') as file:\n",
    "        for line in file:\n",
    "            for char in line:\n",
    "                if char in symbol_counts:\n",
    "                    symbol_counts[char] += 1\n",
    "    data_point = list(symbol_counts.values())\n",
    "    data_point.append(1)\n",
    "    japanese_data.append(data_point)\n",
    "\n",
    "for file_path in spanish_files:\n",
    "    symbol_counts = {s:0 for s in symbols}\n",
    "    with open(file_path, 'r') as file:\n",
    "        for line in file:\n",
    "            for char in line:\n",
    "                if char in symbol_counts:\n",
    "                    symbol_counts[char] += 1\n",
    "    data_point = list(symbol_counts.values())\n",
    "    data_point.append(2)\n",
    "    spanish_data.append(data_point)"
   ]
  },
  {
   "cell_type": "code",
   "execution_count": 4,
   "metadata": {},
   "outputs": [],
   "source": [
    "training_data = []\n",
    "training_data.extend(english_data[:10])\n",
    "training_data.extend(japanese_data[:10])\n",
    "training_data.extend(spanish_data[:10])\n",
    "\n",
    "test_data = []\n",
    "test_data.extend(english_data[10:])\n",
    "test_data.extend(japanese_data[10:])\n",
    "test_data.extend(spanish_data[10:])\n",
    "\n",
    "# each row of training and test data contains 28 columns:\n",
    "#       counts for a-z, count for space,\n",
    "#       last column is 0, 1, or 2 for english, japanese, and spanish, respectively\n",
    "training_data = np.array(training_data)\n",
    "test_data = np.array(test_data)"
   ]
  },
  {
   "cell_type": "code",
   "execution_count": 5,
   "metadata": {},
   "outputs": [
    {
     "data": {
      "text/plain": [
       "array([[ 67,   8,  28,  25, 142,  16,  12,  66,  61,   0,   9,  46,  25,\n",
       "         75,  88,  17,   0,  72,  76, 100,  38,  13,  28,   0,  16,   1,\n",
       "        236,   0],\n",
       "       [ 69,   5,  10,  23, 108,  16,   8,  48,  51,   3,   1,  22,  25,\n",
       "         43,  59,  12,   0,  57,  73,  87,  27,   6,  15,   0,  19,   1,\n",
       "        181,   0],\n",
       "       [ 40,   8,  15,  17,  92,  18,  15,  43,  44,   0,   5,  20,  13,\n",
       "         41,  55,  19,   0,  44,  54,  60,  14,   6,  10,   1,   8,   2,\n",
       "        139,   0],\n",
       "       [138,  30,  48,  50, 225,  41,  24, 101, 123,   3,   5,  62,  54,\n",
       "        134, 148,  32,   3, 122, 151, 189,  59,  24,  42,   1,  35,   0,\n",
       "        391,   0],\n",
       "       [ 41,   5,  16,  18, 102,  21,  24,  52,  51,   0,   2,  24,  20,\n",
       "         52,  72,  25,   0,  56,  51,  66,  24,  10,  10,   3,  13,   1,\n",
       "        145,   0],\n",
       "       [210,  32,  63,  54, 313,  55,  68, 136, 178,   6,  10, 107,  60,\n",
       "        188, 179,  46,   1, 156, 204, 256,  81,  31,  52,   4,  32,   1,\n",
       "        557,   0],\n",
       "       [ 43,   4,   6,  15,  74,  21,  11,  38,  32,   0,   4,  17,  16,\n",
       "         29,  48,  10,   0,  45,  50,  50,  16,   7,   9,   2,  12,   0,\n",
       "        125,   0],\n",
       "       [144,  32,  68,  69, 257,  60,  52, 121, 160,   3,  12,  74,  46,\n",
       "        148, 176,  45,   2, 128, 170, 202,  69,  19,  36,   3,  30,   0,\n",
       "        470,   0],\n",
       "       [ 42,  18,  18,  15, 101,  11,  15,  40,  30,   2,   2,  21,  13,\n",
       "         44,  47,  17,   0,  49,  45,  61,  19,  10,   5,   2,  17,   2,\n",
       "        142,   0],\n",
       "       [116,  26,  53,  46, 180,  27,  35,  69, 108,   4,   6,  45,  38,\n",
       "        122, 103,  30,   2,  85, 127, 141,  56,  14,  27,   1,  27,   1,\n",
       "        326,   0],\n",
       "       [188,  15,  10,  27,  88,   6,  28,  40, 137,   5,  85,   1,  59,\n",
       "         69, 111,   4,   0,  59,  55,  68,  89,   0,  24,   0,  16,  11,\n",
       "        173,   1],\n",
       "       [192,  13,  13,  20,  95,   5,  19,  52, 147,   5,  71,   0,  73,\n",
       "         86, 133,   2,   0,  83,  61,  88, 118,   0,  28,   0,  25,  11,\n",
       "        186,   1],\n",
       "       [231,  17,   7,  37, 100,   6,  23,  61, 188,   2, 114,   0,  65,\n",
       "        102, 165,   0,   0,  75,  79,  84, 135,   0,  36,   0,  34,  18,\n",
       "        225,   1],\n",
       "       [132,  13,   6,  13,  52,   3,  17,  36, 115,   3,  60,   9,  37,\n",
       "         53, 100,   0,   0,  44,  47,  62,  74,   0,  22,   0,  14,   5,\n",
       "        136,   1],\n",
       "       [175,  14,   9,  22,  75,   6,  19,  53, 120,   6,  71,   4,  48,\n",
       "         75, 139,   0,   0,  47,  63,  82,  97,   0,  29,   0,  17,  13,\n",
       "        166,   1],\n",
       "       [223,  20,  10,  27,  88,   6,  22,  49, 157,   4,  92,   2,  55,\n",
       "         99, 125,   2,   0,  51,  62,  86,  92,   0,  36,   0,  16,  11,\n",
       "        181,   1],\n",
       "       [161,  11,   7,  27, 104,   7,  13,  41, 122,   1,  73,   0,  56,\n",
       "         72, 106,   0,   0,  57,  65,  86, 108,   0,  23,   0,  16,  11,\n",
       "        168,   1],\n",
       "       [191,  20,   6,  18, 102,   5,  21,  49, 154,   3,  88,   2,  60,\n",
       "         94, 147,   2,   0,  56,  71, 106, 106,   2,  27,   0,  24,  15,\n",
       "        188,   1],\n",
       "       [211,  23,   7,  22,  83,   8,  20,  44, 140,   4,  88,   2,  68,\n",
       "         88, 154,   0,   1,  81,  57,  92, 105,   1,  24,   0,  20,  11,\n",
       "        192,   1],\n",
       "       [181,   9,   3,  33,  74,   3,  18,  29, 108,   0,  79,   0,  48,\n",
       "         73, 124,   2,   0,  59,  43,  61,  86,   0,  33,   0,  20,   4,\n",
       "        151,   1],\n",
       "       [177,   8,  75,  73, 239,  21,  12,  12,  98,  11,   1,  91,  44,\n",
       "        115, 149,  57,  20, 111, 128,  67,  66,  11,   1,   3,   7,  10,\n",
       "        322,   2],\n",
       "       [133,  11,  60,  71, 167,  14,   6,   4,  72,   7,   0,  69,  44,\n",
       "         79, 102,  32,   7,  89,  99,  47,  47,   9,   0,   3,  14,   1,\n",
       "        234,   2],\n",
       "       [228,  23,  79,  59, 219,  16,  20,   7, 118,  12,   0, 106,  49,\n",
       "        118, 129,  39,  17, 111, 121,  77,  68,   9,   0,   6,  16,   2,\n",
       "        328,   2],\n",
       "       [181,  16,  59,  80, 202,  14,  12,   4,  81,  21,   1, 104,  43,\n",
       "         80, 126,  51,  13, 105, 108,  58,  49,   9,   0,   8,  18,   7,\n",
       "        299,   2],\n",
       "       [234,  20,  77,  77, 214,  16,  14,   5,  99,   7,   0, 112,  51,\n",
       "        111, 146,  41,  15, 127, 124,  71,  71,  17,   0,   3,  13,   7,\n",
       "        343,   2],\n",
       "       [133,  15,  35,  44, 145,  11,   9,  11,  59,  13,   0,  70,  37,\n",
       "         64,  86,  30,  10,  83,  89,  48,  46,   3,   0,   2,   7,   4,\n",
       "        214,   2],\n",
       "       [ 93,   6,  35,  41, 109,   5,   6,   4,  43,   4,   0,  40,  18,\n",
       "         52,  83,  21,   9,  70,  69,  41,  34,   7,   0,   2,   8,   1,\n",
       "        159,   2],\n",
       "       [139,   8,  48,  59, 151,  14,   5,   6,  60,   6,   0,  68,  41,\n",
       "         75,  99,  23,   7,  69,  89,  52,  34,   6,   0,   5,   8,   2,\n",
       "        211,   2],\n",
       "       [242,  19,  92,  89, 249,  18,  19,  17, 108,  14,   1, 124,  58,\n",
       "        117, 166,  62,  13, 123, 149,  78,  80,  13,   0,   3,  19,   4,\n",
       "        386,   2],\n",
       "       [135,   7,  48,  51, 150,  10,  13,   3,  70,  12,   1,  74,  33,\n",
       "         67,  89,  37,  13,  73,  90,  38,  51,  11,   0,   5,  17,   5,\n",
       "        232,   2]])"
      ]
     },
     "execution_count": 5,
     "metadata": {},
     "output_type": "execute_result"
    }
   ],
   "source": [
    "training_data"
   ]
  },
  {
   "cell_type": "markdown",
   "metadata": {},
   "source": [
    "## Naive Bayes Implementation"
   ]
  },
  {
   "cell_type": "markdown",
   "metadata": {},
   "source": [
    "### Q3.2, Q3.3"
   ]
  },
  {
   "cell_type": "code",
   "execution_count": 6,
   "metadata": {},
   "outputs": [],
   "source": [
    "e_mask = (training_data[:, 27] == 0)\n",
    "j_mask = (training_data[:, 27] == 1)\n",
    "s_mask = (training_data[:, 27] == 2)\n",
    "\n",
    "# Pr(ci | y = e)\n",
    "pce = np.array([np.sum(training_data[e_mask][:, i]) for i in range(0, 27)])\n",
    "pce = (pce + 0.5) / (np.sum(pce) + (27/2))\n",
    "\n",
    "# Pr(ci | y = j)\n",
    "pcj = np.array([np.sum(training_data[j_mask][:, i]) for i in range(0, 27)])\n",
    "pcj = (pcj + 0.5) / (np.sum(pcj) + (27/2))\n",
    "\n",
    "# Pr(ci | y = s)\n",
    "pcs = np.array([np.sum(training_data[s_mask][:, i]) for i in range(0, 27)])\n",
    "pcs = (pcs + 0.5) / (np.sum(pcs) + (27/2))"
   ]
  },
  {
   "cell_type": "code",
   "execution_count": 7,
   "metadata": {},
   "outputs": [
    {
     "name": "stdout",
     "output_type": "stream",
     "text": [
      "[0.06016851 0.01113497 0.02151    0.02197258 0.10536924 0.01893276\n",
      " 0.01747894 0.04721626 0.05541054 0.00142078 0.00373369 0.02897737\n",
      " 0.02051875 0.05792169 0.0644639  0.01675202 0.0005617  0.05382455\n",
      " 0.06618206 0.08012556 0.02666446 0.00928465 0.01549645 0.00115645\n",
      " 0.01384437 0.00062779 0.17924996]\n",
      "[1.31765610e-01 1.08669066e-02 5.48586603e-03 1.72263182e-02\n",
      " 6.02047591e-02 3.87854223e-03 1.40116706e-02 3.17621161e-02\n",
      " 9.70334393e-02 2.34110207e-03 5.74094133e-02 1.43261470e-03\n",
      " 3.97987351e-02 5.67105769e-02 9.11632132e-02 8.73545547e-04\n",
      " 1.04825466e-04 4.28037318e-02 4.21747790e-02 5.69901115e-02\n",
      " 7.06174220e-02 2.44592753e-04 1.97421294e-02 3.49418219e-05\n",
      " 1.41514379e-02 7.72214263e-03 1.23449457e-01]\n",
      "[1.04560451e-01 8.23286362e-03 3.75258241e-02 3.97459221e-02\n",
      " 1.13810860e-01 8.60287996e-03 7.18448398e-03 4.53270019e-03\n",
      " 4.98597021e-02 6.62945947e-03 2.77512257e-04 5.29431717e-02\n",
      " 2.58086399e-02 5.41765595e-02 7.24923684e-02 2.42669051e-02\n",
      " 7.67783910e-03 5.92951189e-02 6.57704049e-02 3.56140730e-02\n",
      " 3.37023219e-02 5.88942678e-03 9.25040856e-05 2.49761031e-03\n",
      " 7.86284728e-03 2.68261848e-03 1.68264932e-01]\n"
     ]
    }
   ],
   "source": [
    "print(pce)\n",
    "print(pcj)\n",
    "print(pcs)"
   ]
  },
  {
   "cell_type": "code",
   "execution_count": 8,
   "metadata": {},
   "outputs": [],
   "source": [
    "# Store log probabilities in case of underflow\n",
    "lpce = np.log(pce)\n",
    "lpcj = np.log(pcj)\n",
    "lpcs = np.log(pcs)"
   ]
  },
  {
   "cell_type": "markdown",
   "metadata": {},
   "source": [
    "### Q3.4"
   ]
  },
  {
   "cell_type": "code",
   "execution_count": 9,
   "metadata": {},
   "outputs": [
    {
     "data": {
      "text/plain": [
       "array([164,  32,  53,  57, 311,  55,  51, 140, 140,   3,   6,  85,  64,\n",
       "       139, 182,  53,   3, 141, 186, 225,  65,  31,  47,   4,  38,   2,\n",
       "       498])"
      ]
     },
     "execution_count": 9,
     "metadata": {},
     "output_type": "execute_result"
    }
   ],
   "source": [
    "x = test_data[0][:-1] # e10.txt\n",
    "x"
   ]
  },
  {
   "cell_type": "markdown",
   "metadata": {},
   "source": [
    "### Q3.5"
   ]
  },
  {
   "cell_type": "code",
   "execution_count": 10,
   "metadata": {},
   "outputs": [],
   "source": [
    "# log Pr(X | y)\n",
    "def lpr_x_given_y(X: np.array, y: str) -> float:\n",
    "    theta = None\n",
    "    if y == 'e':\n",
    "        theta = lpce\n",
    "    elif y == 'j':\n",
    "        theta = lpcj\n",
    "    elif y == 's':\n",
    "        theta = lpcs\n",
    "    else:\n",
    "        return None\n",
    "    prob = 0\n",
    "    for i, x in enumerate(X):\n",
    "        prob += x*theta[i]\n",
    "    return prob"
   ]
  },
  {
   "cell_type": "code",
   "execution_count": 11,
   "metadata": {},
   "outputs": [],
   "source": [
    "lpr_e = lpr_x_given_y(x, 'e')\n",
    "lpr_j = lpr_x_given_y(x, 'j')\n",
    "lpr_s = lpr_x_given_y(x, 's')"
   ]
  },
  {
   "cell_type": "code",
   "execution_count": 12,
   "metadata": {},
   "outputs": [
    {
     "name": "stdout",
     "output_type": "stream",
     "text": [
      "log probability given y=e: -7841.865447060635\n",
      "log probability given y=j: -8771.433079075032\n",
      "log probability given y=s: -8467.282044010557\n"
     ]
    }
   ],
   "source": [
    "print('log probability given y=e: ' + str(lpr_e))\n",
    "print('log probability given y=j: ' + str(lpr_j))\n",
    "print('log probability given y=s: ' + str(lpr_s))"
   ]
  },
  {
   "cell_type": "markdown",
   "metadata": {},
   "source": [
    "### Q3.7"
   ]
  },
  {
   "cell_type": "code",
   "execution_count": 13,
   "metadata": {},
   "outputs": [],
   "source": [
    "# log Pr(X | y)\n",
    "def con_lpr(X: np.array, y: int) -> int:\n",
    "    theta = None\n",
    "    if y == 0:\n",
    "        theta = lpce\n",
    "    elif y == 1:\n",
    "        theta = lpcj\n",
    "    elif y == 2:\n",
    "        theta = lpcs\n",
    "    else:\n",
    "        return None\n",
    "    prob = 0\n",
    "    for i, x in enumerate(X):\n",
    "        prob += x*theta[i]\n",
    "    return prob\n",
    "\n",
    "def predict(X: np.array) -> int:\n",
    "    lpr_y = []\n",
    "    lpr_y.append((con_lpr(X, 0), 0))\n",
    "    lpr_y.append((con_lpr(X, 1), 1))\n",
    "    lpr_y.append((con_lpr(X, 2), 2))\n",
    "    lpr_y.sort(key=lambda x: x[0], reverse=True)\n",
    "    return lpr_y[0][1]"
   ]
  },
  {
   "cell_type": "code",
   "execution_count": 14,
   "metadata": {},
   "outputs": [
    {
     "name": "stdout",
     "output_type": "stream",
     "text": [
      "[[10.  0.  0.]\n",
      " [ 0. 10.  0.]\n",
      " [ 0.  0. 10.]]\n"
     ]
    }
   ],
   "source": [
    "conf_mat = np.zeros((3, 3))\n",
    "for datum in test_data:\n",
    "    X = datum[:-1]\n",
    "    y = datum[-1]\n",
    "    yhat = predict(X)\n",
    "    conf_mat[yhat][y] += 1\n",
    "print(conf_mat)"
   ]
  }
 ],
 "metadata": {
  "kernelspec": {
   "display_name": "Python 3",
   "language": "python",
   "name": "python3"
  },
  "language_info": {
   "codemirror_mode": {
    "name": "ipython",
    "version": 3
   },
   "file_extension": ".py",
   "mimetype": "text/x-python",
   "name": "python",
   "nbconvert_exporter": "python",
   "pygments_lexer": "ipython3",
   "version": "3.8.8"
  }
 },
 "nbformat": 4,
 "nbformat_minor": 2
}
