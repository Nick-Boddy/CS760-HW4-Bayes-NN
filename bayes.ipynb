{
 "cells": [
  {
   "cell_type": "code",
   "execution_count": 2,
   "metadata": {},
   "outputs": [],
   "source": [
    "import numpy as np\n",
    "import pandas as pd\n",
    "import os"
   ]
  },
  {
   "cell_type": "markdown",
   "metadata": {},
   "source": [
    "## Constructing our Dataset"
   ]
  },
  {
   "cell_type": "code",
   "execution_count": 15,
   "metadata": {},
   "outputs": [],
   "source": [
    "dir_path = './languageID/'\n",
    "spanish_files = []\n",
    "english_files = []\n",
    "japanese_files = []\n",
    "for file_name in os.listdir(dir_path):\n",
    "    file_path = os.path.join(dir_path, file_name)\n",
    "    if os.path.isfile(file_path):\n",
    "        if file_name.startswith('s'):\n",
    "            spanish_files.append(file_path)\n",
    "        elif file_name.startswith('e'):\n",
    "            english_files.append(file_path)\n",
    "        elif file_name.startswith('j'):\n",
    "            japanese_files.append(file_path)\n",
    "slash_index = len(dir_path) + 1\n",
    "spanish_files.sort(key=lambda x: int(x[slash_index:-4]))\n",
    "english_files.sort(key=lambda x: int(x[slash_index:-4]))\n",
    "japanese_files.sort(key=lambda x: int(x[slash_index:-4]))"
   ]
  },
  {
   "cell_type": "code",
   "execution_count": 35,
   "metadata": {},
   "outputs": [],
   "source": [
    "english_data = []\n",
    "japanese_data = []\n",
    "spanish_data = []\n",
    "symbols = ['a','b','c','d','e','f','g','h','i','j','k','l','m',\\\n",
    "           'n','o','p','q','r','s','t','u','v','w','x','y','z',' ']\n",
    "\n",
    "for file_path in english_files:\n",
    "    symbol_counts = {s:0 for s in symbols}\n",
    "    with open(file_path, 'r') as file:\n",
    "        for line in file:\n",
    "            for char in line:\n",
    "                if char in symbol_counts:\n",
    "                    symbol_counts[char] += 1\n",
    "    data_point = list(symbol_counts.values())\n",
    "    data_point.append(0)\n",
    "    english_data.append(data_point)\n",
    "\n",
    "for file_path in japanese_files:\n",
    "    symbol_counts = {s:0 for s in symbols}\n",
    "    with open(file_path, 'r') as file:\n",
    "        for line in file:\n",
    "            for char in line:\n",
    "                if char in symbol_counts:\n",
    "                    symbol_counts[char] += 1\n",
    "    data_point = list(symbol_counts.values())\n",
    "    data_point.append(1)\n",
    "    japanese_data.append(data_point)\n",
    "\n",
    "for file_path in spanish_files:\n",
    "    symbol_counts = {s:0 for s in symbols}\n",
    "    with open(file_path, 'r') as file:\n",
    "        for line in file:\n",
    "            for char in line:\n",
    "                if char in symbol_counts:\n",
    "                    symbol_counts[char] += 1\n",
    "    data_point = list(symbol_counts.values())\n",
    "    data_point.append(2)\n",
    "    spanish_data.append(data_point)"
   ]
  },
  {
   "cell_type": "code",
   "execution_count": 36,
   "metadata": {},
   "outputs": [],
   "source": [
    "training_data = []\n",
    "training_data.extend(spanish_data[:10])\n",
    "training_data.extend(english_data[:10])\n",
    "training_data.extend(japanese_data[:10])\n",
    "\n",
    "test_data = []\n",
    "test_data.extend(spanish_data[10:])\n",
    "test_data.extend(english_data[10:])\n",
    "test_data.extend(japanese_data[10:])\n",
    "\n",
    "# each row of training and test data contains 28 columns:\n",
    "#       counts for a-z, count for space,\n",
    "#       last column is 0, 1, or 2 for english, japanese, and spanish, respectively\n",
    "training_data = np.array(training_data)\n",
    "test_data = np.array(test_data)"
   ]
  },
  {
   "cell_type": "code",
   "execution_count": 41,
   "metadata": {},
   "outputs": [
    {
     "data": {
      "text/plain": [
       "array([2, 2, 2, 2, 2, 2, 2, 2, 2, 2, 0, 0, 0, 0, 0, 0, 0, 0, 0, 0, 1, 1,\n",
       "       1, 1, 1, 1, 1, 1, 1, 1])"
      ]
     },
     "execution_count": 41,
     "metadata": {},
     "output_type": "execute_result"
    }
   ],
   "source": [
    "training_data[:,-1]"
   ]
  },
  {
   "cell_type": "markdown",
   "metadata": {},
   "source": [
    "## Naive Bayes Implementation"
   ]
  },
  {
   "cell_type": "code",
   "execution_count": null,
   "metadata": {},
   "outputs": [],
   "source": []
  }
 ],
 "metadata": {
  "kernelspec": {
   "display_name": "Python 3",
   "language": "python",
   "name": "python3"
  },
  "language_info": {
   "codemirror_mode": {
    "name": "ipython",
    "version": 3
   },
   "file_extension": ".py",
   "mimetype": "text/x-python",
   "name": "python",
   "nbconvert_exporter": "python",
   "pygments_lexer": "ipython3",
   "version": "3.8.8"
  }
 },
 "nbformat": 4,
 "nbformat_minor": 2
}
